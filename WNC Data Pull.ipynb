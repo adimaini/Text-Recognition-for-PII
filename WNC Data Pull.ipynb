{
 "cells": [
  {
   "cell_type": "code",
   "execution_count": 14,
   "metadata": {
    "ExecuteTime": {
     "end_time": "2020-11-28T07:38:49.003417Z",
     "start_time": "2020-11-28T07:38:48.994554Z"
    }
   },
   "outputs": [
    {
     "data": {
      "text/plain": [
       "<module 'lib.data_processing' from '/Users/adimaini/Documents/GW/Machine Learning/Final Project/bias-scoring-algorithm/lib/data_processing.py'>"
      ]
     },
     "execution_count": 14,
     "metadata": {},
     "output_type": "execute_result"
    }
   ],
   "source": [
    "import pandas as pd\n",
    "import numpy as np\n",
    "import lib.data_processing\n",
    "import importlib\n",
    "importlib.reload(lib.data_processing)"
   ]
  },
  {
   "cell_type": "code",
   "execution_count": 15,
   "metadata": {
    "ExecuteTime": {
     "end_time": "2020-11-28T07:38:50.082334Z",
     "start_time": "2020-11-28T07:38:50.080278Z"
    }
   },
   "outputs": [],
   "source": [
    "TRAIN_FP = 'data/bias_data/WNC/biased.word.train'\n",
    "TEST_FP = 'data/bias_data/WNC/biased.word.test'"
   ]
  },
  {
   "cell_type": "code",
   "execution_count": 16,
   "metadata": {
    "ExecuteTime": {
     "end_time": "2020-11-28T07:38:53.315822Z",
     "start_time": "2020-11-28T07:38:50.323363Z"
    }
   },
   "outputs": [],
   "source": [
    "wnc_train = lib.data_processing.raw_data(TRAIN_FP, 3, 4)\n",
    "wnc_train_df = wnc_train.add_miss_word_col(dtype='df')\n",
    "\n",
    "wnc_test = lib.data_processing.raw_data(TEST_FP, 3, 4)\n",
    "wnc_test_df = wnc_test.add_miss_word_col(dtype='df')"
   ]
  },
  {
   "cell_type": "code",
   "execution_count": 18,
   "metadata": {
    "ExecuteTime": {
     "end_time": "2020-11-28T07:39:03.155890Z",
     "start_time": "2020-11-28T07:39:03.135821Z"
    }
   },
   "outputs": [
    {
     "data": {
      "text/html": [
       "<div>\n",
       "<style scoped>\n",
       "    .dataframe tbody tr th:only-of-type {\n",
       "        vertical-align: middle;\n",
       "    }\n",
       "\n",
       "    .dataframe tbody tr th {\n",
       "        vertical-align: top;\n",
       "    }\n",
       "\n",
       "    .dataframe thead th {\n",
       "        text-align: right;\n",
       "    }\n",
       "</style>\n",
       "<table border=\"1\" class=\"dataframe\">\n",
       "  <thead>\n",
       "    <tr style=\"text-align: right;\">\n",
       "      <th></th>\n",
       "      <th>0</th>\n",
       "      <th>1</th>\n",
       "      <th>2</th>\n",
       "      <th>3</th>\n",
       "      <th>4</th>\n",
       "      <th>5</th>\n",
       "      <th>6</th>\n",
       "      <th>7</th>\n",
       "    </tr>\n",
       "  </thead>\n",
       "  <tbody>\n",
       "    <tr>\n",
       "      <th>0</th>\n",
       "      <td>235640083</td>\n",
       "      <td>the 51 day stand ##off and ensuing murder of 7...</td>\n",
       "      <td>the 51 day stand ##off and ensuing deaths of 7...</td>\n",
       "      <td>the 51 day standoff and ensuing murder of 76 m...</td>\n",
       "      <td>the 51 day standoff and ensuing deaths of 76 m...</td>\n",
       "      <td>DET NUM NOUN NOUN NOUN CCONJ VERB NOUN ADP NUM...</td>\n",
       "      <td>det nummod compound nsubj nsubj cc amod conj p...</td>\n",
       "      <td>[murder, deaths]</td>\n",
       "    </tr>\n",
       "    <tr>\n",
       "      <th>1</th>\n",
       "      <td>37561168</td>\n",
       "      <td>mark o ##ate ##n ( born 8 march 1964 , watford...</td>\n",
       "      <td>mark o ##ate ##n ( born 8 march 1964 , watford...</td>\n",
       "      <td>mark oaten (born 8 march 1964, watford) is a d...</td>\n",
       "      <td>mark oaten (born 8 march 1964, watford) is a l...</td>\n",
       "      <td>NOUN ADJ ADJ ADJ PUNCT VERB NUM NOUN NUM PUNCT...</td>\n",
       "      <td>nsubj amod amod amod punct parataxis nummod np...</td>\n",
       "      <td>[disgraced]</td>\n",
       "    </tr>\n",
       "    <tr>\n",
       "      <th>2</th>\n",
       "      <td>101665256</td>\n",
       "      <td>another infamous period of colon ##isation in ...</td>\n",
       "      <td>another period of colon ##isation in ancient t...</td>\n",
       "      <td>another infamous period of colonisation in anc...</td>\n",
       "      <td>another period of colonisation in ancient time...</td>\n",
       "      <td>DET ADJ NOUN ADP NOUN NOUN ADP ADJ NOUN VERB A...</td>\n",
       "      <td>det amod nsubj prep pobj pobj prep amod pobj R...</td>\n",
       "      <td>[infamous]</td>\n",
       "    </tr>\n",
       "    <tr>\n",
       "      <th>3</th>\n",
       "      <td>480248865</td>\n",
       "      <td>photo sequence of astonishing 2005 chicago ##l...</td>\n",
       "      <td>photo sequence of 2005 chicago ##land crash wi...</td>\n",
       "      <td>photo sequence of astonishing 2005 chicagoland...</td>\n",
       "      <td>photo sequence of 2005 chicagoland crash with ...</td>\n",
       "      <td>NOUN NOUN ADP VERB NUM NOUN NOUN NOUN ADP ADJ ...</td>\n",
       "      <td>compound ROOT prep amod nummod compound compou...</td>\n",
       "      <td>[astonishing]</td>\n",
       "    </tr>\n",
       "    <tr>\n",
       "      <th>4</th>\n",
       "      <td>317239242</td>\n",
       "      <td>jesus of nazareth is probably mentioned in two...</td>\n",
       "      <td>jesus of nazareth is possibly mentioned in two...</td>\n",
       "      <td>jesus of nazareth is probably mentioned in two...</td>\n",
       "      <td>jesus of nazareth is possibly mentioned in two...</td>\n",
       "      <td>PROPN ADP ADJ VERB ADV VERB ADP NUM NOUN ADP D...</td>\n",
       "      <td>nsubjpass prep pobj auxpass advmod ROOT prep n...</td>\n",
       "      <td>[probably, possibly]</td>\n",
       "    </tr>\n",
       "  </tbody>\n",
       "</table>\n",
       "</div>"
      ],
      "text/plain": [
       "           0                                                  1  \\\n",
       "0  235640083  the 51 day stand ##off and ensuing murder of 7...   \n",
       "1   37561168  mark o ##ate ##n ( born 8 march 1964 , watford...   \n",
       "2  101665256  another infamous period of colon ##isation in ...   \n",
       "3  480248865  photo sequence of astonishing 2005 chicago ##l...   \n",
       "4  317239242  jesus of nazareth is probably mentioned in two...   \n",
       "\n",
       "                                                   2  \\\n",
       "0  the 51 day stand ##off and ensuing deaths of 7...   \n",
       "1  mark o ##ate ##n ( born 8 march 1964 , watford...   \n",
       "2  another period of colon ##isation in ancient t...   \n",
       "3  photo sequence of 2005 chicago ##land crash wi...   \n",
       "4  jesus of nazareth is possibly mentioned in two...   \n",
       "\n",
       "                                                   3  \\\n",
       "0  the 51 day standoff and ensuing murder of 76 m...   \n",
       "1  mark oaten (born 8 march 1964, watford) is a d...   \n",
       "2  another infamous period of colonisation in anc...   \n",
       "3  photo sequence of astonishing 2005 chicagoland...   \n",
       "4  jesus of nazareth is probably mentioned in two...   \n",
       "\n",
       "                                                   4  \\\n",
       "0  the 51 day standoff and ensuing deaths of 76 m...   \n",
       "1  mark oaten (born 8 march 1964, watford) is a l...   \n",
       "2  another period of colonisation in ancient time...   \n",
       "3  photo sequence of 2005 chicagoland crash with ...   \n",
       "4  jesus of nazareth is possibly mentioned in two...   \n",
       "\n",
       "                                                   5  \\\n",
       "0  DET NUM NOUN NOUN NOUN CCONJ VERB NOUN ADP NUM...   \n",
       "1  NOUN ADJ ADJ ADJ PUNCT VERB NUM NOUN NUM PUNCT...   \n",
       "2  DET ADJ NOUN ADP NOUN NOUN ADP ADJ NOUN VERB A...   \n",
       "3  NOUN NOUN ADP VERB NUM NOUN NOUN NOUN ADP ADJ ...   \n",
       "4  PROPN ADP ADJ VERB ADV VERB ADP NUM NOUN ADP D...   \n",
       "\n",
       "                                                   6                     7  \n",
       "0  det nummod compound nsubj nsubj cc amod conj p...      [murder, deaths]  \n",
       "1  nsubj amod amod amod punct parataxis nummod np...           [disgraced]  \n",
       "2  det amod nsubj prep pobj pobj prep amod pobj R...            [infamous]  \n",
       "3  compound ROOT prep amod nummod compound compou...         [astonishing]  \n",
       "4  nsubjpass prep pobj auxpass advmod ROOT prep n...  [probably, possibly]  "
      ]
     },
     "execution_count": 18,
     "metadata": {},
     "output_type": "execute_result"
    }
   ],
   "source": [
    "wnc_test_df.head(5)"
   ]
  },
  {
   "cell_type": "code",
   "execution_count": 19,
   "metadata": {
    "ExecuteTime": {
     "end_time": "2020-11-28T07:39:20.713005Z",
     "start_time": "2020-11-28T07:39:20.666782Z"
    }
   },
   "outputs": [
    {
     "data": {
      "text/html": [
       "<div>\n",
       "<style scoped>\n",
       "    .dataframe tbody tr th:only-of-type {\n",
       "        vertical-align: middle;\n",
       "    }\n",
       "\n",
       "    .dataframe tbody tr th {\n",
       "        vertical-align: top;\n",
       "    }\n",
       "\n",
       "    .dataframe thead th {\n",
       "        text-align: right;\n",
       "    }\n",
       "</style>\n",
       "<table border=\"1\" class=\"dataframe\">\n",
       "  <thead>\n",
       "    <tr style=\"text-align: right;\">\n",
       "      <th></th>\n",
       "      <th>0</th>\n",
       "      <th>1</th>\n",
       "      <th>2</th>\n",
       "      <th>3</th>\n",
       "      <th>4</th>\n",
       "      <th>5</th>\n",
       "      <th>6</th>\n",
       "      <th>7</th>\n",
       "    </tr>\n",
       "  </thead>\n",
       "  <tbody>\n",
       "    <tr>\n",
       "      <th>0</th>\n",
       "      <td>b057ee3e-ef62-4126-a681-dd4a86b25a15</td>\n",
       "      <td>when told of thompson ' s appointment , nixon ...</td>\n",
       "      <td>when told of thompson ' s appointment , nixon ...</td>\n",
       "      <td>when told of thompson 's appointment , nixon r...</td>\n",
       "      <td>when told of thompson 's appointment , nixon r...</td>\n",
       "      <td>ADV VERB ADP NOUN PUNCT VERB NOUN PUNCT NOUN V...</td>\n",
       "      <td>advmod advcl prep nmod punct compound pobj pun...</td>\n",
       "      <td>[', s, `, `, ', ', `, `, 's, ``, '', ``]</td>\n",
       "    </tr>\n",
       "    <tr>\n",
       "      <th>1</th>\n",
       "      <td>9c8e1855-c9d0-45d1-b1c6-a8e8a5eb7f61</td>\n",
       "      <td>some parents might argue that placing their ch...</td>\n",
       "      <td>some parents might argue that placing their ch...</td>\n",
       "      <td>some parents might argue that placing their ch...</td>\n",
       "      <td>some parents might argue that placing their ch...</td>\n",
       "      <td>DET NOUN VERB VERB ADP VERB ADJ NOUN ADP NOUN ...</td>\n",
       "      <td>det nsubj aux ROOT mark csubj poss dobj prep c...</td>\n",
       "      <td>[re, ##ap, ##ing, tax, ##ed, reaping, taxed]</td>\n",
       "    </tr>\n",
       "    <tr>\n",
       "      <th>2</th>\n",
       "      <td>a0f170e2-0c0c-49ca-9b53-9d758bf295b8</td>\n",
       "      <td>beneath this bland good obama lies a more inte...</td>\n",
       "      <td>beneath this bland good obama lies a more inte...</td>\n",
       "      <td>beneath this bland good obama lies a more inte...</td>\n",
       "      <td>beneath this bland good obama lies a more inte...</td>\n",
       "      <td>ADP DET ADJ ADJ NOUN VERB DET ADV ADJ NOUN PUN...</td>\n",
       "      <td>prep det amod amod pobj ROOT det advmod amod n...</td>\n",
       "      <td>[better, -, the, ', s, self, -, pity, un, ##fu...</td>\n",
       "    </tr>\n",
       "    <tr>\n",
       "      <th>3</th>\n",
       "      <td>5313376a-876f-4af7-9a33-52c964e48898</td>\n",
       "      <td>worse yet , it s ##neer ##ingly de ##pre ##cat...</td>\n",
       "      <td>worse yet , it s ##neer ##ingly de ##pre ##cat...</td>\n",
       "      <td>worse yet , it sneeringly deprecates the genui...</td>\n",
       "      <td>worse yet , it sneeringly deprecates the genui...</td>\n",
       "      <td>ADV ADV PUNCT PRON ADV ADV ADV VERB VERB VERB ...</td>\n",
       "      <td>advmod advmod punct nsubj advmod advmod advmod...</td>\n",
       "      <td>[s, ##neer, ##ingly, de, ##pre, ##cate, ##s, a...</td>\n",
       "    </tr>\n",
       "    <tr>\n",
       "      <th>4</th>\n",
       "      <td>9beb9114-f3b9-4788-ae7e-c03634593860</td>\n",
       "      <td>and obama ' s pick to head the department of a...</td>\n",
       "      <td>and obama ' s pick to head the department of a...</td>\n",
       "      <td>and obama 's pick to head the department of ag...</td>\n",
       "      <td>and obama 's pick to head the department of ag...</td>\n",
       "      <td>CCONJ NOUN PUNCT VERB VERB PART VERB DET NOUN ...</td>\n",
       "      <td>cc nsubj punct nsubj nsubj aux xcomp det dobj ...</td>\n",
       "      <td>[', s, vi, ##ls, ##ack, manipulation, ##s, 's,...</td>\n",
       "    </tr>\n",
       "  </tbody>\n",
       "</table>\n",
       "</div>"
      ],
      "text/plain": [
       "                                      0  \\\n",
       "0  b057ee3e-ef62-4126-a681-dd4a86b25a15   \n",
       "1  9c8e1855-c9d0-45d1-b1c6-a8e8a5eb7f61   \n",
       "2  a0f170e2-0c0c-49ca-9b53-9d758bf295b8   \n",
       "3  5313376a-876f-4af7-9a33-52c964e48898   \n",
       "4  9beb9114-f3b9-4788-ae7e-c03634593860   \n",
       "\n",
       "                                                   1  \\\n",
       "0  when told of thompson ' s appointment , nixon ...   \n",
       "1  some parents might argue that placing their ch...   \n",
       "2  beneath this bland good obama lies a more inte...   \n",
       "3  worse yet , it s ##neer ##ingly de ##pre ##cat...   \n",
       "4  and obama ' s pick to head the department of a...   \n",
       "\n",
       "                                                   2  \\\n",
       "0  when told of thompson ' s appointment , nixon ...   \n",
       "1  some parents might argue that placing their ch...   \n",
       "2  beneath this bland good obama lies a more inte...   \n",
       "3  worse yet , it s ##neer ##ingly de ##pre ##cat...   \n",
       "4  and obama ' s pick to head the department of a...   \n",
       "\n",
       "                                                   3  \\\n",
       "0  when told of thompson 's appointment , nixon r...   \n",
       "1  some parents might argue that placing their ch...   \n",
       "2  beneath this bland good obama lies a more inte...   \n",
       "3  worse yet , it sneeringly deprecates the genui...   \n",
       "4  and obama 's pick to head the department of ag...   \n",
       "\n",
       "                                                   4  \\\n",
       "0  when told of thompson 's appointment , nixon r...   \n",
       "1  some parents might argue that placing their ch...   \n",
       "2  beneath this bland good obama lies a more inte...   \n",
       "3  worse yet , it sneeringly deprecates the genui...   \n",
       "4  and obama 's pick to head the department of ag...   \n",
       "\n",
       "                                                   5  \\\n",
       "0  ADV VERB ADP NOUN PUNCT VERB NOUN PUNCT NOUN V...   \n",
       "1  DET NOUN VERB VERB ADP VERB ADJ NOUN ADP NOUN ...   \n",
       "2  ADP DET ADJ ADJ NOUN VERB DET ADV ADJ NOUN PUN...   \n",
       "3  ADV ADV PUNCT PRON ADV ADV ADV VERB VERB VERB ...   \n",
       "4  CCONJ NOUN PUNCT VERB VERB PART VERB DET NOUN ...   \n",
       "\n",
       "                                                   6  \\\n",
       "0  advmod advcl prep nmod punct compound pobj pun...   \n",
       "1  det nsubj aux ROOT mark csubj poss dobj prep c...   \n",
       "2  prep det amod amod pobj ROOT det advmod amod n...   \n",
       "3  advmod advmod punct nsubj advmod advmod advmod...   \n",
       "4  cc nsubj punct nsubj nsubj aux xcomp det dobj ...   \n",
       "\n",
       "                                                   7  \n",
       "0           [', s, `, `, ', ', `, `, 's, ``, '', ``]  \n",
       "1       [re, ##ap, ##ing, tax, ##ed, reaping, taxed]  \n",
       "2  [better, -, the, ', s, self, -, pity, un, ##fu...  \n",
       "3  [s, ##neer, ##ingly, de, ##pre, ##cate, ##s, a...  \n",
       "4  [', s, vi, ##ls, ##ack, manipulation, ##s, 's,...  "
      ]
     },
     "execution_count": 19,
     "metadata": {},
     "output_type": "execute_result"
    }
   ],
   "source": [
    "sample = lib.data_processing.raw_data('data/bias_data/real_world_samples/ibc_right', 2, 3)\n",
    "sample.add_miss_word_col(dtype='df').head(5)"
   ]
  },
  {
   "cell_type": "code",
   "execution_count": null,
   "metadata": {},
   "outputs": [],
   "source": []
  }
 ],
 "metadata": {
  "kernelspec": {
   "display_name": "Python 3.7.3 64-bit",
   "language": "python",
   "name": "python37364bit4db73d59933341feaa47a8db6a2db2c7"
  },
  "language_info": {
   "codemirror_mode": {
    "name": "ipython",
    "version": 3
   },
   "file_extension": ".py",
   "mimetype": "text/x-python",
   "name": "python",
   "nbconvert_exporter": "python",
   "pygments_lexer": "ipython3",
   "version": "3.7.3"
  }
 },
 "nbformat": 4,
 "nbformat_minor": 4
}
